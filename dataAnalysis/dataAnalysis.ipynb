{
  "cells": [
    {
      "cell_type": "raw",
      "metadata": {},
      "source": [
        "---\n",
        "title: \"Untitled\"\n",
        "format: html\n",
        "---"
      ],
      "id": "568f9f2d"
    },
    {
      "cell_type": "code",
      "metadata": {},
      "source": [
        "from ucimlrepo import fetch_ucirepo \n",
        "  \n",
        "# fetch dataset \n",
        "cdc_diabetes_health_indicators = fetch_ucirepo(id=891) \n",
        "  \n",
        "# data (as pandas dataframes) \n",
        "X = cdc_diabetes_health_indicators.data.features \n",
        "y = cdc_diabetes_health_indicators.data.targets \n",
        "  \n",
        "# metadata \n",
        "print(cdc_diabetes_health_indicators.metadata) \n",
        "  \n",
        "# variable information \n",
        "print(cdc_diabetes_health_indicators.variables) "
      ],
      "id": "0f979423",
      "execution_count": null,
      "outputs": []
    }
  ],
  "metadata": {
    "kernelspec": {
      "name": "python3",
      "language": "python",
      "display_name": "Python 3 (ipykernel)"
    }
  },
  "nbformat": 4,
  "nbformat_minor": 5
}