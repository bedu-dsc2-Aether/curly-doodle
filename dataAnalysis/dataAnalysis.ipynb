{
  "cells": [
    {
      "cell_type": "raw",
      "metadata": {},
      "source": [
        "---\n",
        "title: \"Untitled\"\n",
        "format: html\n",
        "---"
      ],
      "id": "5d543252"
    },
    {
      "cell_type": "code",
      "metadata": {},
      "source": [
        "pip install seaborn\n",
        "pip install ucimlrepo"
      ],
      "id": "de60cbad",
      "execution_count": null,
      "outputs": []
    },
    {
      "cell_type": "code",
      "metadata": {},
      "source": [
        "from ucimlrepo import fetch_ucirepo \n",
        "  \n",
        "# fetch dataset \n",
        "cdc_diabetes_health_indicators = fetch_ucirepo(id=891) \n",
        "  \n",
        "# data (as pandas dataframes) \n",
        "X = cdc_diabetes_health_indicators.data.features \n",
        "y = cdc_diabetes_health_indicators.data.targets \n",
        "  \n",
        "# metadata \n",
        "print(cdc_diabetes_health_indicators.metadata) \n",
        "  \n",
        "# variable information \n",
        "print(cdc_diabetes_health_indicators.variables) "
      ],
      "id": "129e0db0",
      "execution_count": null,
      "outputs": []
    },
    {
      "cell_type": "code",
      "metadata": {},
      "source": [
        "X.describe()"
      ],
      "id": "e0c831b0",
      "execution_count": null,
      "outputs": []
    },
    {
      "cell_type": "code",
      "metadata": {},
      "source": [
        "import matplotlib.pyplot as plt\n",
        "import seaborn as sns\n",
        "import pandas as pd\n",
        "\n",
        "df = pd.concat([X,y],axis=1)"
      ],
      "id": "aa500875",
      "execution_count": null,
      "outputs": []
    },
    {
      "cell_type": "code",
      "metadata": {},
      "source": [
        "correlation_matrix = df.corr()\n",
        "top_columns = correlation_matrix['Diabetes_binary'].sort_values(ascending=False).head(5).index\n",
        "print(top_columns)\n",
        "sns.heatmap(df[top_columns].corr(), annot=True, cmap='coolwarm')\n",
        "plt.title('Top 5 Columns Correlation Heatmap')\n",
        "plt.show()"
      ],
      "id": "fe41a899",
      "execution_count": null,
      "outputs": []
    },
    {
      "cell_type": "code",
      "metadata": {},
      "source": [
        "correlation_matrix = df.corr()\n",
        "top_columns_inverse = correlation_matrix['Diabetes_binary'].sort_values(ascending=True).head(4).index\n",
        "top_columns_inverse = top_columns_inverse.append(pd.Index(['Diabetes_binary']))\n",
        "print(top_columns_inverse)\n",
        "sns.heatmap(df[top_columns_inverse].corr(), annot=True, cmap='coolwarm')\n",
        "plt.title('Top 5 Columns With Inverse Correlation Heatmap')\n",
        "plt.show()"
      ],
      "id": "217f2304",
      "execution_count": null,
      "outputs": []
    }
  ],
  "metadata": {
    "kernelspec": {
      "name": "python3",
      "language": "python",
      "display_name": "Python 3 (ipykernel)"
    }
  },
  "nbformat": 4,
  "nbformat_minor": 5
}