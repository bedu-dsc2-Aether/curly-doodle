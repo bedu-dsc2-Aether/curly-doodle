{
  "cells": [
    {
      "cell_type": "code",
      "execution_count": 1,
      "metadata": {
        "id": "2LXlestNyhWR"
      },
      "outputs": [],
      "source": [
        "from sqlalchemy import create_engine\n",
        "from sqlalchemy.types import INT as sqlINT, VARCHAR as sqlVARCHAR\n",
        "from urllib.request import urlopen\n",
        "from bs4 import BeautifulSoup\n",
        "from io import StringIO\n",
        "import pandas as pd\n",
        "import os"
      ]
    },
    {
      "cell_type": "markdown",
      "metadata": {},
      "source": [
        "Read the database connection details from the repository's `secrets` and create the `engine` that will be used to connect to the database."
      ]
    },
    {
      "cell_type": "code",
      "execution_count": 2,
      "metadata": {},
      "outputs": [],
      "source": [
        "host = os.getenv(\"DATABASE_HOST\")\n",
        "user = os.getenv(\"DATABASE_USERNAME\")\n",
        "passwd = os.getenv(\"DATABASE_PASSWORD\")\n",
        "db = os.getenv(\"DATABASE\")\n",
        "\n",
        "engine = create_engine(\n",
        "    f'mysql+mysqlconnector://{user}:{passwd}@{host}/{db}',\n",
        "    echo=False,\n",
        "    connect_args={'ssl_ca': '/etc/ssl/certs/ca-certificates.crt'}\n",
        "    )"
      ]
    },
    {
      "cell_type": "markdown",
      "metadata": {},
      "source": [
        "Access the CDC website and store in a data frame the table that describes the layout of the variables in the ASC file"
      ]
    },
    {
      "cell_type": "code",
      "execution_count": 3,
      "metadata": {
        "id": "5NYKVqPd8saU"
      },
      "outputs": [
        {
          "data": {
            "text/html": [
              "<div>\n",
              "<style scoped>\n",
              "    .dataframe tbody tr th:only-of-type {\n",
              "        vertical-align: middle;\n",
              "    }\n",
              "\n",
              "    .dataframe tbody tr th {\n",
              "        vertical-align: top;\n",
              "    }\n",
              "\n",
              "    .dataframe thead th {\n",
              "        text-align: right;\n",
              "    }\n",
              "</style>\n",
              "<table border=\"1\" class=\"dataframe\">\n",
              "  <thead>\n",
              "    <tr style=\"text-align: right;\">\n",
              "      <th></th>\n",
              "      <th>Starting Column</th>\n",
              "      <th>Variable Name</th>\n",
              "      <th>Field Length</th>\n",
              "    </tr>\n",
              "  </thead>\n",
              "  <tbody>\n",
              "    <tr>\n",
              "      <th>0</th>\n",
              "      <td>1</td>\n",
              "      <td>_STATE</td>\n",
              "      <td>2</td>\n",
              "    </tr>\n",
              "    <tr>\n",
              "      <th>1</th>\n",
              "      <td>17</td>\n",
              "      <td>FMONTH</td>\n",
              "      <td>2</td>\n",
              "    </tr>\n",
              "    <tr>\n",
              "      <th>2</th>\n",
              "      <td>19</td>\n",
              "      <td>IDATE</td>\n",
              "      <td>8</td>\n",
              "    </tr>\n",
              "    <tr>\n",
              "      <th>3</th>\n",
              "      <td>19</td>\n",
              "      <td>IMONTH</td>\n",
              "      <td>2</td>\n",
              "    </tr>\n",
              "    <tr>\n",
              "      <th>4</th>\n",
              "      <td>21</td>\n",
              "      <td>IDAY</td>\n",
              "      <td>2</td>\n",
              "    </tr>\n",
              "    <tr>\n",
              "      <th>...</th>\n",
              "      <td>...</td>\n",
              "      <td>...</td>\n",
              "      <td>...</td>\n",
              "    </tr>\n",
              "    <tr>\n",
              "      <th>337</th>\n",
              "      <td>2153</td>\n",
              "      <td>_FRUITE1</td>\n",
              "      <td>1</td>\n",
              "    </tr>\n",
              "    <tr>\n",
              "      <th>338</th>\n",
              "      <td>2154</td>\n",
              "      <td>_VEGETE1</td>\n",
              "      <td>1</td>\n",
              "    </tr>\n",
              "    <tr>\n",
              "      <th>339</th>\n",
              "      <td>2155</td>\n",
              "      <td>_FLSHOT7</td>\n",
              "      <td>1</td>\n",
              "    </tr>\n",
              "    <tr>\n",
              "      <th>340</th>\n",
              "      <td>2156</td>\n",
              "      <td>_PNEUMO3</td>\n",
              "      <td>1</td>\n",
              "    </tr>\n",
              "    <tr>\n",
              "      <th>341</th>\n",
              "      <td>2157</td>\n",
              "      <td>_AIDTST4</td>\n",
              "      <td>1</td>\n",
              "    </tr>\n",
              "  </tbody>\n",
              "</table>\n",
              "<p>342 rows × 3 columns</p>\n",
              "</div>"
            ],
            "text/plain": [
              "     Starting Column Variable Name  Field Length\n",
              "0                  1        _STATE             2\n",
              "1                 17        FMONTH             2\n",
              "2                 19         IDATE             8\n",
              "3                 19        IMONTH             2\n",
              "4                 21          IDAY             2\n",
              "..               ...           ...           ...\n",
              "337             2153      _FRUITE1             1\n",
              "338             2154      _VEGETE1             1\n",
              "339             2155      _FLSHOT7             1\n",
              "340             2156      _PNEUMO3             1\n",
              "341             2157      _AIDTST4             1\n",
              "\n",
              "[342 rows x 3 columns]"
            ]
          },
          "execution_count": 3,
          "metadata": {},
          "output_type": "execute_result"
        }
      ],
      "source": [
        "url = 'https://www.cdc.gov/brfss/annual_data/2019/llcp_varlayout_19_onecolumn.html'\n",
        "html = urlopen(url)\n",
        "soup = BeautifulSoup(html, 'lxml')\n",
        "html_table = soup.find('table',{'class': 'table'})\n",
        "layout = pd.read_html(StringIO(str(html_table)))[0]\n",
        "layout"
      ]
    },
    {
      "cell_type": "markdown",
      "metadata": {},
      "source": [
        "Change the name of the columns in the dataframe to a single word each, then set the column `Variable` as the index of the dataframe"
      ]
    },
    {
      "cell_type": "code",
      "execution_count": 4,
      "metadata": {
        "colab": {
          "base_uri": "https://localhost:8080/"
        },
        "id": "XdXvnIVQuiZw",
        "outputId": "332a0e1c-89f6-4968-bdf2-4ff765db04d5"
      },
      "outputs": [
        {
          "name": "stdout",
          "output_type": "stream",
          "text": [
            "<class 'pandas.core.frame.DataFrame'>\n",
            "Index: 342 entries, _STATE to _AIDTST4\n",
            "Data columns (total 2 columns):\n",
            " #   Column  Non-Null Count  Dtype\n",
            "---  ------  --------------  -----\n",
            " 0   Start   342 non-null    int64\n",
            " 1   Length  342 non-null    int64\n",
            "dtypes: int64(2)\n",
            "memory usage: 8.0+ KB\n"
          ]
        }
      ],
      "source": [
        "layout.columns = ['Start', 'Code', 'Length']\n",
        "layout.set_index('Code', inplace=True)\n",
        "\n",
        "layout.info()"
      ]
    },
    {
      "cell_type": "markdown",
      "metadata": {},
      "source": [
        "Show the head and tail of the dataframe"
      ]
    },
    {
      "cell_type": "code",
      "execution_count": 5,
      "metadata": {},
      "outputs": [
        {
          "data": {
            "text/html": [
              "<div>\n",
              "<style scoped>\n",
              "    .dataframe tbody tr th:only-of-type {\n",
              "        vertical-align: middle;\n",
              "    }\n",
              "\n",
              "    .dataframe tbody tr th {\n",
              "        vertical-align: top;\n",
              "    }\n",
              "\n",
              "    .dataframe thead th {\n",
              "        text-align: right;\n",
              "    }\n",
              "</style>\n",
              "<table border=\"1\" class=\"dataframe\">\n",
              "  <thead>\n",
              "    <tr style=\"text-align: right;\">\n",
              "      <th></th>\n",
              "      <th>Start</th>\n",
              "      <th>Length</th>\n",
              "    </tr>\n",
              "    <tr>\n",
              "      <th>Code</th>\n",
              "      <th></th>\n",
              "      <th></th>\n",
              "    </tr>\n",
              "  </thead>\n",
              "  <tbody>\n",
              "    <tr>\n",
              "      <th>_STATE</th>\n",
              "      <td>1</td>\n",
              "      <td>2</td>\n",
              "    </tr>\n",
              "    <tr>\n",
              "      <th>FMONTH</th>\n",
              "      <td>17</td>\n",
              "      <td>2</td>\n",
              "    </tr>\n",
              "    <tr>\n",
              "      <th>IDATE</th>\n",
              "      <td>19</td>\n",
              "      <td>8</td>\n",
              "    </tr>\n",
              "    <tr>\n",
              "      <th>IMONTH</th>\n",
              "      <td>19</td>\n",
              "      <td>2</td>\n",
              "    </tr>\n",
              "    <tr>\n",
              "      <th>IDAY</th>\n",
              "      <td>21</td>\n",
              "      <td>2</td>\n",
              "    </tr>\n",
              "    <tr>\n",
              "      <th>...</th>\n",
              "      <td>...</td>\n",
              "      <td>...</td>\n",
              "    </tr>\n",
              "    <tr>\n",
              "      <th>_FRUITE1</th>\n",
              "      <td>2153</td>\n",
              "      <td>1</td>\n",
              "    </tr>\n",
              "    <tr>\n",
              "      <th>_VEGETE1</th>\n",
              "      <td>2154</td>\n",
              "      <td>1</td>\n",
              "    </tr>\n",
              "    <tr>\n",
              "      <th>_FLSHOT7</th>\n",
              "      <td>2155</td>\n",
              "      <td>1</td>\n",
              "    </tr>\n",
              "    <tr>\n",
              "      <th>_PNEUMO3</th>\n",
              "      <td>2156</td>\n",
              "      <td>1</td>\n",
              "    </tr>\n",
              "    <tr>\n",
              "      <th>_AIDTST4</th>\n",
              "      <td>2157</td>\n",
              "      <td>1</td>\n",
              "    </tr>\n",
              "  </tbody>\n",
              "</table>\n",
              "<p>342 rows × 2 columns</p>\n",
              "</div>"
            ],
            "text/plain": [
              "          Start  Length\n",
              "Code                   \n",
              "_STATE        1       2\n",
              "FMONTH       17       2\n",
              "IDATE        19       8\n",
              "IMONTH       19       2\n",
              "IDAY         21       2\n",
              "...         ...     ...\n",
              "_FRUITE1   2153       1\n",
              "_VEGETE1   2154       1\n",
              "_FLSHOT7   2155       1\n",
              "_PNEUMO3   2156       1\n",
              "_AIDTST4   2157       1\n",
              "\n",
              "[342 rows x 2 columns]"
            ]
          },
          "execution_count": 5,
          "metadata": {},
          "output_type": "execute_result"
        }
      ],
      "source": [
        "layout"
      ]
    },
    {
      "cell_type": "markdown",
      "metadata": {},
      "source": [
        "Get the maximum length of all the strings in the index called `Variable` of the `layout` dataframe to get an idea of the most appropriate lenght for the data types used in the `to_sql` method."
      ]
    },
    {
      "cell_type": "code",
      "execution_count": 6,
      "metadata": {},
      "outputs": [
        {
          "name": "stdout",
          "output_type": "stream",
          "text": [
            "Max column length:  8\n"
          ]
        }
      ],
      "source": [
        "print('Max column length: ', layout.index.str.len().max())"
      ]
    },
    {
      "cell_type": "markdown",
      "metadata": {},
      "source": [
        "Upload the dataframe to a MySQL database using the `to_sql` method and the `sqlalchemy` library, then, read the table from the database and show the head and tail of the dataframe to check if the upload was successful."
      ]
    },
    {
      "cell_type": "code",
      "execution_count": 7,
      "metadata": {
        "colab": {
          "base_uri": "https://localhost:8080/",
          "height": 443
        },
        "id": "7GRizatxrSB2",
        "outputId": "299f4d43-758a-4250-8aa7-945f48061c84"
      },
      "outputs": [
        {
          "data": {
            "text/html": [
              "<div>\n",
              "<style scoped>\n",
              "    .dataframe tbody tr th:only-of-type {\n",
              "        vertical-align: middle;\n",
              "    }\n",
              "\n",
              "    .dataframe tbody tr th {\n",
              "        vertical-align: top;\n",
              "    }\n",
              "\n",
              "    .dataframe thead th {\n",
              "        text-align: right;\n",
              "    }\n",
              "</style>\n",
              "<table border=\"1\" class=\"dataframe\">\n",
              "  <thead>\n",
              "    <tr style=\"text-align: right;\">\n",
              "      <th></th>\n",
              "      <th>Start</th>\n",
              "      <th>Length</th>\n",
              "    </tr>\n",
              "    <tr>\n",
              "      <th>Code</th>\n",
              "      <th></th>\n",
              "      <th></th>\n",
              "    </tr>\n",
              "  </thead>\n",
              "  <tbody>\n",
              "    <tr>\n",
              "      <th>_STATE</th>\n",
              "      <td>1</td>\n",
              "      <td>2</td>\n",
              "    </tr>\n",
              "    <tr>\n",
              "      <th>FMONTH</th>\n",
              "      <td>17</td>\n",
              "      <td>2</td>\n",
              "    </tr>\n",
              "    <tr>\n",
              "      <th>IDATE</th>\n",
              "      <td>19</td>\n",
              "      <td>8</td>\n",
              "    </tr>\n",
              "    <tr>\n",
              "      <th>IMONTH</th>\n",
              "      <td>19</td>\n",
              "      <td>2</td>\n",
              "    </tr>\n",
              "    <tr>\n",
              "      <th>IDAY</th>\n",
              "      <td>21</td>\n",
              "      <td>2</td>\n",
              "    </tr>\n",
              "    <tr>\n",
              "      <th>...</th>\n",
              "      <td>...</td>\n",
              "      <td>...</td>\n",
              "    </tr>\n",
              "    <tr>\n",
              "      <th>_FRUITE1</th>\n",
              "      <td>2153</td>\n",
              "      <td>1</td>\n",
              "    </tr>\n",
              "    <tr>\n",
              "      <th>_VEGETE1</th>\n",
              "      <td>2154</td>\n",
              "      <td>1</td>\n",
              "    </tr>\n",
              "    <tr>\n",
              "      <th>_FLSHOT7</th>\n",
              "      <td>2155</td>\n",
              "      <td>1</td>\n",
              "    </tr>\n",
              "    <tr>\n",
              "      <th>_PNEUMO3</th>\n",
              "      <td>2156</td>\n",
              "      <td>1</td>\n",
              "    </tr>\n",
              "    <tr>\n",
              "      <th>_AIDTST4</th>\n",
              "      <td>2157</td>\n",
              "      <td>1</td>\n",
              "    </tr>\n",
              "  </tbody>\n",
              "</table>\n",
              "<p>342 rows × 2 columns</p>\n",
              "</div>"
            ],
            "text/plain": [
              "          Start  Length\n",
              "Code                   \n",
              "_STATE        1       2\n",
              "FMONTH       17       2\n",
              "IDATE        19       8\n",
              "IMONTH       19       2\n",
              "IDAY         21       2\n",
              "...         ...     ...\n",
              "_FRUITE1   2153       1\n",
              "_VEGETE1   2154       1\n",
              "_FLSHOT7   2155       1\n",
              "_PNEUMO3   2156       1\n",
              "_AIDTST4   2157       1\n",
              "\n",
              "[342 rows x 2 columns]"
            ]
          },
          "execution_count": 7,
          "metadata": {},
          "output_type": "execute_result"
        }
      ],
      "source": [
        "column_types = {\n",
        "    'Code': sqlVARCHAR(10),\n",
        "    'Start': sqlINT,\n",
        "    'Length': sqlINT\n",
        "}\n",
        "\n",
        "pd.io.sql.to_sql(layout, 'layout', engine, if_exists='replace', index=True, flavor='mysql', dtype=column_types)\n",
        "pd.io.sql.read_sql('SELECT * FROM layout', engine,index_col='Code')"
      ]
    }
  ],
  "metadata": {
    "colab": {
      "provenance": []
    },
    "kernelspec": {
      "display_name": "Python 3",
      "name": "python3"
    },
    "language_info": {
      "codemirror_mode": {
        "name": "ipython",
        "version": 3
      },
      "file_extension": ".py",
      "mimetype": "text/x-python",
      "name": "python",
      "nbconvert_exporter": "python",
      "pygments_lexer": "ipython3",
      "version": "3.10.12"
    }
  },
  "nbformat": 4,
  "nbformat_minor": 0
}
