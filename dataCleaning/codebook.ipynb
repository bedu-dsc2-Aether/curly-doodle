{
 "cells": [
  {
   "cell_type": "code",
   "execution_count": 1,
   "metadata": {},
   "outputs": [],
   "source": [
    "from urllib.request import urlopen\n",
    "from unicodedata import normalize\n",
    "from io import StringIO\n",
    "from bs4 import BeautifulSoup\n",
    "import pandas as pd\n",
    "import numpy as np"
   ]
  },
  {
   "cell_type": "code",
   "execution_count": 2,
   "metadata": {},
   "outputs": [],
   "source": [
    "url = 'https://www.cdc.gov/brfss/annual_data/2019/pdf/codebook19_llcp-v2-508.HTML'\n",
    "html = urlopen(url)\n",
    "soup = BeautifulSoup(html, 'lxml')\n",
    "html_tables = soup.findAll('table',{'class': 'table'})"
   ]
  },
  {
   "cell_type": "markdown",
   "metadata": {},
   "source": [
    "Transform all the tables found in the codebook url to a pandas dataframe."
   ]
  },
  {
   "cell_type": "code",
   "execution_count": 3,
   "metadata": {},
   "outputs": [],
   "source": [
    "data_attributes_dict = {}\n",
    "value_catalogs = pd.DataFrame()\n",
    "\n",
    "for table in html_tables[1:]:\n",
    "    # Find the first cell in the table\n",
    "    attributes_html = table.find('td')\n",
    "    # Extract the text from the cell\n",
    "    attributes_text = normalize('NFKD',attributes_html.get_text(separator='\\n'))\n",
    "    # Split the text into lines and create a dictionary that will be used\n",
    "    #  build a dataframe to store the attributes of the SAS variable\n",
    "    d = dict()\n",
    "    for line in attributes_text.splitlines():\n",
    "        k = str(line.split(':')[0]).strip()\n",
    "        v = str(line.split(':')[1]).strip()\n",
    "        d[k] = v\n",
    "    \n",
    "    # Skip to the next table if the cell doesn't contain a 'SAS Variable Name', \n",
    "    if 'SAS Variable Name' not in d:\n",
    "        continue\n",
    "    \n",
    "    # Extract the SAS Variable Name and remove it from the dictionary\n",
    "    #  otherwise, it would be used as a column in the resulting dataframe\n",
    "    code = d.pop('SAS Variable Name')\n",
    "\n",
    "    # Use the variable name as the key for the dictionary\n",
    "    data_attributes_dict[code] = d\n",
    "\n",
    "    # Remove the first row from the table\n",
    "    table.find('tr').decompose()\n",
    "    # Remove the colgroup from the table\n",
    "    table.find('colgroup').decompose()\n",
    "    \n",
    "    # Read the table into a dataframe\n",
    "    df = pd.read_html(StringIO(str(table)))[0]\n",
    "    # Add the `code` to all the rows in the current iteration of the dataframe\n",
    "    #  in a new column\n",
    "    df['Code'] = code\n",
    "    # Set the index of the dataframe to the `code` and `value` columns\n",
    "    df.set_index(['Code','Value'],inplace=True)\n",
    "    # Concatenate the dataframe to the value_catalogs dataframe\n",
    "    value_catalogs = pd.concat([value_catalogs,df])"
   ]
  },
  {
   "cell_type": "markdown",
   "metadata": {},
   "source": [
    "Display the info of the dataframe that was built from all the tables in the codebook url."
   ]
  },
  {
   "cell_type": "code",
   "execution_count": 4,
   "metadata": {},
   "outputs": [
    {
     "name": "stdout",
     "output_type": "stream",
     "text": [
      "<class 'pandas.core.frame.DataFrame'>\n",
      "MultiIndex: 1942 entries, ('_STATE', 1) to ('_AIDTST4', 'BLANK')\n",
      "Data columns (total 4 columns):\n",
      " #   Column               Non-Null Count  Dtype \n",
      "---  ------               --------------  ----- \n",
      " 0   Value Label          1890 non-null   object\n",
      " 1   Frequency            1942 non-null   int64 \n",
      " 2   Percentage           1942 non-null   object\n",
      " 3   Weighted Percentage  1942 non-null   object\n",
      "dtypes: int64(1), object(3)\n",
      "memory usage: 88.9+ KB\n",
      "None\n"
     ]
    }
   ],
   "source": [
    "print(value_catalogs.info())"
   ]
  },
  {
   "cell_type": "markdown",
   "metadata": {},
   "source": [
    "Modify the values in the `Weighted Percentage` and `Percentage` columns in the dataframe from '.' to NaN and all the other values to float."
   ]
  },
  {
   "cell_type": "code",
   "execution_count": 5,
   "metadata": {},
   "outputs": [
    {
     "name": "stdout",
     "output_type": "stream",
     "text": [
      "<class 'pandas.core.frame.DataFrame'>\n",
      "MultiIndex: 1942 entries, ('_STATE', 1) to ('_AIDTST4', 'BLANK')\n",
      "Data columns (total 4 columns):\n",
      " #   Column               Non-Null Count  Dtype  \n",
      "---  ------               --------------  -----  \n",
      " 0   Value Label          1890 non-null   object \n",
      " 1   Frequency            1942 non-null   int64  \n",
      " 2   Percentage           1669 non-null   float64\n",
      " 3   Weighted Percentage  1669 non-null   float64\n",
      "dtypes: float64(2), int64(1), object(1)\n",
      "memory usage: 88.9+ KB\n"
     ]
    }
   ],
   "source": [
    "#value_catalogs = value_catalogs.apply(pd.to_numeric, errors='ignore') # Alternative way to convert to numeric\n",
    "value_catalogs.replace({'Percentage':{'.': np.nan}}, inplace=True)\n",
    "value_catalogs.replace({'Weighted Percentage':{'.': np.nan}}, inplace=True)\n",
    "value_catalogs = value_catalogs.astype({'Percentage': float, 'Weighted Percentage': float})\n",
    "value_catalogs.info()"
   ]
  },
  {
   "cell_type": "markdown",
   "metadata": {},
   "source": [
    "Count how many unique values exist in the `Code` index of the `value_catalogs` dataframe."
   ]
  },
  {
   "cell_type": "code",
   "execution_count": 6,
   "metadata": {},
   "outputs": [
    {
     "data": {
      "text/plain": [
       "Index(['_STATE', 'FMONTH', 'IDATE', 'IMONTH', 'IDAY', 'IYEAR', 'DISPCODE',\n",
       "       'SEQNO', '_PSU', 'CTELENM1',\n",
       "       ...\n",
       "       '_VEGESU1', '_FRTLT1A', '_VEGLT1A', '_FRT16A', '_VEG23A', '_FRUITE1',\n",
       "       '_VEGETE1', '_FLSHOT7', '_PNEUMO3', '_AIDTST4'],\n",
       "      dtype='object', name='Code', length=342)"
      ]
     },
     "execution_count": 6,
     "metadata": {},
     "output_type": "execute_result"
    }
   ],
   "source": [
    "value_catalogs.index.get_level_values(0).unique()"
   ]
  },
  {
   "cell_type": "markdown",
   "metadata": {},
   "source": [
    "Filter the `value_catalog` dataframe to find only rows where, when grouped by Code, the last item in the catalog of responses contributes no more than 30% of the total responses.\n",
    "\n",
    "This is done because the last item in the catalog of responses is usually reserved for answers like 'Unknown' or 'Not asked, or 'Missing'. If the last item in the catalog of responses is greater than 30%, it is likely that the last item is a 'catch-all' for these types of responses. "
   ]
  },
  {
   "cell_type": "code",
   "execution_count": 8,
   "metadata": {},
   "outputs": [
    {
     "name": "stdout",
     "output_type": "stream",
     "text": [
      "131\n"
     ]
    }
   ],
   "source": [
    "promising_codes = []\n",
    "for code in value_catalogs.index.get_level_values(0).unique():\n",
    "    freq = value_catalogs.loc[code]['Frequency']\n",
    "    if freq.iloc[-1]/freq.sum() < 0.30:\n",
    "        promising_codes.append(code)\n",
    "\n",
    "print(len(promising_codes))"
   ]
  },
  {
   "cell_type": "markdown",
   "metadata": {},
   "source": [
    "#### Examples:"
   ]
  },
  {
   "cell_type": "markdown",
   "metadata": {},
   "source": [
    "Example of how to filter the dataframe `value_catalogs` to find the meaning of the responses to the question that has the code `_STATE`."
   ]
  },
  {
   "cell_type": "code",
   "execution_count": 16,
   "metadata": {},
   "outputs": [
    {
     "data": {
      "text/html": [
       "<div>\n",
       "<style scoped>\n",
       "    .dataframe tbody tr th:only-of-type {\n",
       "        vertical-align: middle;\n",
       "    }\n",
       "\n",
       "    .dataframe tbody tr th {\n",
       "        vertical-align: top;\n",
       "    }\n",
       "\n",
       "    .dataframe thead th {\n",
       "        text-align: right;\n",
       "    }\n",
       "</style>\n",
       "<table border=\"1\" class=\"dataframe\">\n",
       "  <thead>\n",
       "    <tr style=\"text-align: right;\">\n",
       "      <th></th>\n",
       "      <th>Value Label</th>\n",
       "    </tr>\n",
       "    <tr>\n",
       "      <th>Value</th>\n",
       "      <th></th>\n",
       "    </tr>\n",
       "  </thead>\n",
       "  <tbody>\n",
       "    <tr>\n",
       "      <th>1</th>\n",
       "      <td>Alabama</td>\n",
       "    </tr>\n",
       "    <tr>\n",
       "      <th>2</th>\n",
       "      <td>Alaska</td>\n",
       "    </tr>\n",
       "    <tr>\n",
       "      <th>4</th>\n",
       "      <td>Arizona</td>\n",
       "    </tr>\n",
       "    <tr>\n",
       "      <th>5</th>\n",
       "      <td>Arkansas</td>\n",
       "    </tr>\n",
       "    <tr>\n",
       "      <th>6</th>\n",
       "      <td>California</td>\n",
       "    </tr>\n",
       "  </tbody>\n",
       "</table>\n",
       "</div>"
      ],
      "text/plain": [
       "      Value Label\n",
       "Value            \n",
       "1         Alabama\n",
       "2          Alaska\n",
       "4         Arizona\n",
       "5        Arkansas\n",
       "6      California"
      ]
     },
     "execution_count": 16,
     "metadata": {},
     "output_type": "execute_result"
    }
   ],
   "source": [
    "pd.DataFrame(value_catalogs.loc['_STATE']['Value Label'].head())"
   ]
  },
  {
   "cell_type": "markdown",
   "metadata": {},
   "source": [
    "Example of how to filter the dataframe `value_catalogs` to find the meaning of the response `'3'` to the question that has the code `GENHLTH` ."
   ]
  },
  {
   "cell_type": "code",
   "execution_count": 11,
   "metadata": {},
   "outputs": [
    {
     "data": {
      "text/plain": [
       "'Good'"
      ]
     },
     "execution_count": 11,
     "metadata": {},
     "output_type": "execute_result"
    }
   ],
   "source": [
    "value_catalogs.loc['GENHLTH']['Value Label'].loc['3']"
   ]
  },
  {
   "cell_type": "markdown",
   "metadata": {},
   "source": [
    "Example of how to filter the dataframe `value_catalogs` to find the meaning of all the possible responses to the question that has the code `HLTHPLN1` ."
   ]
  },
  {
   "cell_type": "code",
   "execution_count": 15,
   "metadata": {},
   "outputs": [
    {
     "data": {
      "text/html": [
       "<div>\n",
       "<style scoped>\n",
       "    .dataframe tbody tr th:only-of-type {\n",
       "        vertical-align: middle;\n",
       "    }\n",
       "\n",
       "    .dataframe tbody tr th {\n",
       "        vertical-align: top;\n",
       "    }\n",
       "\n",
       "    .dataframe thead th {\n",
       "        text-align: right;\n",
       "    }\n",
       "</style>\n",
       "<table border=\"1\" class=\"dataframe\">\n",
       "  <thead>\n",
       "    <tr style=\"text-align: right;\">\n",
       "      <th></th>\n",
       "      <th>Value Label</th>\n",
       "    </tr>\n",
       "    <tr>\n",
       "      <th>Value</th>\n",
       "      <th></th>\n",
       "    </tr>\n",
       "  </thead>\n",
       "  <tbody>\n",
       "    <tr>\n",
       "      <th>1</th>\n",
       "      <td>Yes</td>\n",
       "    </tr>\n",
       "    <tr>\n",
       "      <th>2</th>\n",
       "      <td>No</td>\n",
       "    </tr>\n",
       "    <tr>\n",
       "      <th>7</th>\n",
       "      <td>Don’t know/Not Sure</td>\n",
       "    </tr>\n",
       "    <tr>\n",
       "      <th>9</th>\n",
       "      <td>Refused</td>\n",
       "    </tr>\n",
       "    <tr>\n",
       "      <th>BLANK</th>\n",
       "      <td>Not asked or Missing</td>\n",
       "    </tr>\n",
       "  </tbody>\n",
       "</table>\n",
       "</div>"
      ],
      "text/plain": [
       "                Value Label\n",
       "Value                      \n",
       "1                       Yes\n",
       "2                        No\n",
       "7       Don’t know/Not Sure\n",
       "9                   Refused\n",
       "BLANK  Not asked or Missing"
      ]
     },
     "execution_count": 15,
     "metadata": {},
     "output_type": "execute_result"
    }
   ],
   "source": [
    "pd.DataFrame(value_catalogs.loc['HLTHPLN1']['Value Label'])"
   ]
  }
 ],
 "metadata": {
  "kernelspec": {
   "display_name": "Python 3",
   "language": "python",
   "name": "python3"
  },
  "language_info": {
   "codemirror_mode": {
    "name": "ipython",
    "version": 3
   },
   "file_extension": ".py",
   "mimetype": "text/x-python",
   "name": "python",
   "nbconvert_exporter": "python",
   "pygments_lexer": "ipython3",
   "version": "3.10.12"
  }
 },
 "nbformat": 4,
 "nbformat_minor": 2
}
