{
  "cells": [
    {
      "cell_type": "code",
      "execution_count": 1,
      "metadata": {
        "id": "2LXlestNyhWR"
      },
      "outputs": [],
      "source": [
        "from sqlalchemy import create_engine\n",
        "from zipfile import ZipFile\n",
        "from io import StringIO\n",
        "import pandas as pd\n",
        "import requests\n",
        "import os"
      ]
    },
    {
      "cell_type": "markdown",
      "metadata": {},
      "source": [
        "Read the database connection details from the repository's `secrets` and create the `engine` that will be used to connect to the database."
      ]
    },
    {
      "cell_type": "code",
      "execution_count": 2,
      "metadata": {},
      "outputs": [],
      "source": [
        "host = os.getenv(\"DATABASE_HOST\")\n",
        "user = os.getenv(\"DATABASE_USERNAME\")\n",
        "passwd = os.getenv(\"DATABASE_PASSWORD\")\n",
        "db = os.getenv(\"DATABASE\")\n",
        "\n",
        "engine = create_engine(\n",
        "    f'mysql+mysqlconnector://{user}:{passwd}@{host}/{db}',\n",
        "    echo=False,\n",
        "    connect_args={'ssl_ca': '/etc/ssl/certs/ca-certificates.crt'}\n",
        "    )"
      ]
    },
    {
      "cell_type": "markdown",
      "metadata": {},
      "source": [
        "Download the zip file that contains the data from the CDC's website to the `/data/` directory."
      ]
    },
    {
      "cell_type": "code",
      "execution_count": 3,
      "metadata": {
        "id": "IC9vVyjKmVGt"
      },
      "outputs": [],
      "source": [
        "if not os.path.exists('../data/LLCP2019ASC.zip'):\n",
        "    url = 'https://www.cdc.gov/brfss/annual_data/2019/files/LLCP2019ASC.zip'\n",
        "    response = requests.get(url, stream=True)\n",
        "    with open('../data/LLCP2019ASC.zip', 'wb') as f:\n",
        "        for chunk in response.iter_content(chunk_size=512):\n",
        "            if chunk: \n",
        "                f.write(chunk)\n",
        "    # Delete the `response` variable to avoid memory issues.\n",
        "    del response"
      ]
    },
    {
      "cell_type": "markdown",
      "metadata": {},
      "source": [
        "Read the zip file and extract each line of the file into a list of strings to later convert it to a dataframe."
      ]
    },
    {
      "cell_type": "code",
      "execution_count": 4,
      "metadata": {},
      "outputs": [],
      "source": [
        "data_rows = []\n",
        "asc_zip = ZipFile('../data/LLCP2019ASC.zip', 'r')\n",
        "file_in_zip = asc_zip.namelist()[0]\n",
        "for line in asc_zip.open(file_in_zip).readlines():\n",
        "    data_rows.append(line.decode('utf-8'))\n",
        "asc_zip.close()"
      ]
    },
    {
      "cell_type": "markdown",
      "metadata": {},
      "source": [
        "Delete the `asc_zip` and `file_in_zip` variables to avoid memory issues."
      ]
    },
    {
      "cell_type": "code",
      "execution_count": 5,
      "metadata": {},
      "outputs": [],
      "source": [
        "del asc_zip\n",
        "del file_in_zip"
      ]
    },
    {
      "cell_type": "markdown",
      "metadata": {},
      "source": [
        "Convert the list of strings into a dataframe and show the head and tail of the dataframe to understand its structure."
      ]
    },
    {
      "cell_type": "code",
      "execution_count": 6,
      "metadata": {
        "colab": {
          "base_uri": "https://localhost:8080/"
        },
        "id": "_gWWdn8-4TyT",
        "outputId": "eae76f33-55fe-4b32-f231-ee08f364f4ca"
      },
      "outputs": [
        {
          "data": {
            "text/html": [
              "<div>\n",
              "<style scoped>\n",
              "    .dataframe tbody tr th:only-of-type {\n",
              "        vertical-align: middle;\n",
              "    }\n",
              "\n",
              "    .dataframe tbody tr th {\n",
              "        vertical-align: top;\n",
              "    }\n",
              "\n",
              "    .dataframe thead th {\n",
              "        text-align: right;\n",
              "    }\n",
              "</style>\n",
              "<table border=\"1\" class=\"dataframe\">\n",
              "  <thead>\n",
              "    <tr style=\"text-align: right;\">\n",
              "      <th></th>\n",
              "      <th>raw</th>\n",
              "    </tr>\n",
              "  </thead>\n",
              "  <tbody>\n",
              "    <tr>\n",
              "      <th>0</th>\n",
              "      <td>01              0101182019     11002019000001 ...</td>\n",
              "    </tr>\n",
              "    <tr>\n",
              "      <th>1</th>\n",
              "      <td>01              0101132019     11002019000002 ...</td>\n",
              "    </tr>\n",
              "    <tr>\n",
              "      <th>2</th>\n",
              "      <td>01              0101182019     11002019000003 ...</td>\n",
              "    </tr>\n",
              "    <tr>\n",
              "      <th>3</th>\n",
              "      <td>01              0101182019     12002019000004 ...</td>\n",
              "    </tr>\n",
              "    <tr>\n",
              "      <th>4</th>\n",
              "      <td>01              0101042019     11002019000005 ...</td>\n",
              "    </tr>\n",
              "    <tr>\n",
              "      <th>...</th>\n",
              "      <td>...</td>\n",
              "    </tr>\n",
              "    <tr>\n",
              "      <th>418263</th>\n",
              "      <td>72              0903152020     11002019006029 ...</td>\n",
              "    </tr>\n",
              "    <tr>\n",
              "      <th>418264</th>\n",
              "      <td>72              0903082020     11002019006030 ...</td>\n",
              "    </tr>\n",
              "    <tr>\n",
              "      <th>418265</th>\n",
              "      <td>72              0903102020     11002019006031 ...</td>\n",
              "    </tr>\n",
              "    <tr>\n",
              "      <th>418266</th>\n",
              "      <td>72              0903062020     11002019006032 ...</td>\n",
              "    </tr>\n",
              "    <tr>\n",
              "      <th>418267</th>\n",
              "      <td>72              0903052020     11002019006033 ...</td>\n",
              "    </tr>\n",
              "  </tbody>\n",
              "</table>\n",
              "<p>418268 rows × 1 columns</p>\n",
              "</div>"
            ],
            "text/plain": [
              "                                                      raw\n",
              "0       01              0101182019     11002019000001 ...\n",
              "1       01              0101132019     11002019000002 ...\n",
              "2       01              0101182019     11002019000003 ...\n",
              "3       01              0101182019     12002019000004 ...\n",
              "4       01              0101042019     11002019000005 ...\n",
              "...                                                   ...\n",
              "418263  72              0903152020     11002019006029 ...\n",
              "418264  72              0903082020     11002019006030 ...\n",
              "418265  72              0903102020     11002019006031 ...\n",
              "418266  72              0903062020     11002019006032 ...\n",
              "418267  72              0903052020     11002019006033 ...\n",
              "\n",
              "[418268 rows x 1 columns]"
            ]
          },
          "execution_count": 6,
          "metadata": {},
          "output_type": "execute_result"
        }
      ],
      "source": [
        "data = pd.DataFrame(data_rows,columns=['raw'])\n",
        "data"
      ]
    },
    {
      "cell_type": "markdown",
      "metadata": {},
      "source": [
        "Once we've seen how the data would be structured in a dataframe, delete the `data` variable to avoid memory issues."
      ]
    },
    {
      "cell_type": "code",
      "execution_count": 7,
      "metadata": {
        "id": "f4Uy5tF0WThs"
      },
      "outputs": [],
      "source": [
        "del(data)"
      ]
    },
    {
      "cell_type": "markdown",
      "metadata": {},
      "source": [
        "#### Retreive the metadata from the MySQL database"
      ]
    },
    {
      "cell_type": "markdown",
      "metadata": {},
      "source": [
        "Query the MySQL database to retrieve the layout table, which describes the structure of the columns. \n",
        "The layout will be used to perform an action similar to the MS Excel action \"Text to Columns\", the raw data (strings) in the dataframe will be split into multiple columns.\n",
        "\n",
        "_Note:_ An `if` condition is used to check if the query has already been executed and saved as a `.json` file, if so, the json file will be read instead. This is done to avoid exhausting the amount of free queries per month provided by the MySQL database provider. "
      ]
    },
    {
      "cell_type": "code",
      "execution_count": 8,
      "metadata": {},
      "outputs": [
        {
          "data": {
            "text/html": [
              "<div>\n",
              "<style scoped>\n",
              "    .dataframe tbody tr th:only-of-type {\n",
              "        vertical-align: middle;\n",
              "    }\n",
              "\n",
              "    .dataframe tbody tr th {\n",
              "        vertical-align: top;\n",
              "    }\n",
              "\n",
              "    .dataframe thead th {\n",
              "        text-align: right;\n",
              "    }\n",
              "</style>\n",
              "<table border=\"1\" class=\"dataframe\">\n",
              "  <thead>\n",
              "    <tr style=\"text-align: right;\">\n",
              "      <th></th>\n",
              "      <th>Start</th>\n",
              "      <th>Length</th>\n",
              "    </tr>\n",
              "    <tr>\n",
              "      <th>Code</th>\n",
              "      <th></th>\n",
              "      <th></th>\n",
              "    </tr>\n",
              "  </thead>\n",
              "  <tbody>\n",
              "    <tr>\n",
              "      <th>_STATE</th>\n",
              "      <td>1</td>\n",
              "      <td>2</td>\n",
              "    </tr>\n",
              "    <tr>\n",
              "      <th>FMONTH</th>\n",
              "      <td>17</td>\n",
              "      <td>2</td>\n",
              "    </tr>\n",
              "    <tr>\n",
              "      <th>IDATE</th>\n",
              "      <td>19</td>\n",
              "      <td>8</td>\n",
              "    </tr>\n",
              "    <tr>\n",
              "      <th>IMONTH</th>\n",
              "      <td>19</td>\n",
              "      <td>2</td>\n",
              "    </tr>\n",
              "    <tr>\n",
              "      <th>IDAY</th>\n",
              "      <td>21</td>\n",
              "      <td>2</td>\n",
              "    </tr>\n",
              "  </tbody>\n",
              "</table>\n",
              "</div>"
            ],
            "text/plain": [
              "        Start  Length\n",
              "Code                 \n",
              "_STATE      1       2\n",
              "FMONTH     17       2\n",
              "IDATE      19       8\n",
              "IMONTH     19       2\n",
              "IDAY       21       2"
            ]
          },
          "execution_count": 8,
          "metadata": {},
          "output_type": "execute_result"
        }
      ],
      "source": [
        "if not os.path.exists('../data/layout.json'):\n",
        "    df = pd.io.sql.read_sql('SELECT * FROM layout', engine,index_col='Code')\n",
        "    df.to_json('../data/layout.json',orient='table')\n",
        "\n",
        "layout = pd.read_json('../data/layout.json', orient='table')\n",
        "layout.head()"
      ]
    },
    {
      "cell_type": "markdown",
      "metadata": {},
      "source": [
        "Query the MySQL database to retrieve the `catalog` table. The `Value` column in this table can be used to find which columns contain `float` values. This information will be used to convert the columns to the correct data type."
      ]
    },
    {
      "cell_type": "code",
      "execution_count": 9,
      "metadata": {},
      "outputs": [
        {
          "data": {
            "text/html": [
              "<div>\n",
              "<style scoped>\n",
              "    .dataframe tbody tr th:only-of-type {\n",
              "        vertical-align: middle;\n",
              "    }\n",
              "\n",
              "    .dataframe tbody tr th {\n",
              "        vertical-align: top;\n",
              "    }\n",
              "\n",
              "    .dataframe thead th {\n",
              "        text-align: right;\n",
              "    }\n",
              "</style>\n",
              "<table border=\"1\" class=\"dataframe\">\n",
              "  <thead>\n",
              "    <tr style=\"text-align: right;\">\n",
              "      <th></th>\n",
              "      <th></th>\n",
              "      <th>Value Label</th>\n",
              "      <th>Frequency</th>\n",
              "      <th>Percentage</th>\n",
              "      <th>Weighted Percentage</th>\n",
              "    </tr>\n",
              "    <tr>\n",
              "      <th>Code</th>\n",
              "      <th>Value</th>\n",
              "      <th></th>\n",
              "      <th></th>\n",
              "      <th></th>\n",
              "      <th></th>\n",
              "    </tr>\n",
              "  </thead>\n",
              "  <tbody>\n",
              "    <tr>\n",
              "      <th rowspan=\"5\" valign=\"top\">_STATE</th>\n",
              "      <th>1</th>\n",
              "      <td>Alabama</td>\n",
              "      <td>7052</td>\n",
              "      <td>1.69</td>\n",
              "      <td>1.51</td>\n",
              "    </tr>\n",
              "    <tr>\n",
              "      <th>2</th>\n",
              "      <td>Alaska</td>\n",
              "      <td>2977</td>\n",
              "      <td>0.71</td>\n",
              "      <td>0.22</td>\n",
              "    </tr>\n",
              "    <tr>\n",
              "      <th>4</th>\n",
              "      <td>Arizona</td>\n",
              "      <td>8941</td>\n",
              "      <td>2.14</td>\n",
              "      <td>2.24</td>\n",
              "    </tr>\n",
              "    <tr>\n",
              "      <th>5</th>\n",
              "      <td>Arkansas</td>\n",
              "      <td>5359</td>\n",
              "      <td>1.28</td>\n",
              "      <td>0.92</td>\n",
              "    </tr>\n",
              "    <tr>\n",
              "      <th>6</th>\n",
              "      <td>California</td>\n",
              "      <td>11613</td>\n",
              "      <td>2.78</td>\n",
              "      <td>12.22</td>\n",
              "    </tr>\n",
              "  </tbody>\n",
              "</table>\n",
              "</div>"
            ],
            "text/plain": [
              "             Value Label  Frequency  Percentage  Weighted Percentage\n",
              "Code   Value                                                        \n",
              "_STATE 1         Alabama       7052        1.69                 1.51\n",
              "       2          Alaska       2977        0.71                 0.22\n",
              "       4         Arizona       8941        2.14                 2.24\n",
              "       5        Arkansas       5359        1.28                 0.92\n",
              "       6      California      11613        2.78                12.22"
            ]
          },
          "execution_count": 9,
          "metadata": {},
          "output_type": "execute_result"
        }
      ],
      "source": [
        "if not os.path.exists('../data/catalog.json'):\n",
        "    df = pd.io.sql.read_sql('SELECT * FROM catalog', engine,index_col=['Code','Value'])\n",
        "    df.to_json('../data/catalog.json',orient='table')\n",
        "\n",
        "catalog = pd.read_json('../data/catalog.json', orient='table')\n",
        "catalog.head()"
      ]
    },
    {
      "cell_type": "markdown",
      "metadata": {},
      "source": [
        "Make a list of columns that contain `float` values."
      ]
    },
    {
      "cell_type": "code",
      "execution_count": 10,
      "metadata": {},
      "outputs": [
        {
          "name": "stdout",
          "output_type": "stream",
          "text": [
            "['_STSTR', '_STRWT', '_RAWRAKE', '_WT2RAKE', '_CLLCPWT', '_LLCPWT2', 'HTM4', 'WTKG3', '_BMI5', '_BMI5CAT', '_RFBMI5', 'METVL11_', 'METVL21_', 'MAXVO21_', 'FC601_', 'PAFREQ1_', 'PAFREQ2_', 'STRFREQ_', 'FTJUDA2_', 'FRUTDA2_', 'GRENDA1_', 'FRNCHDA_', 'VEGEDA2_', '_FRUTSU1', '_VEGESU1']\n"
          ]
        }
      ],
      "source": [
        "float_cols = []\n",
        "for index, row in catalog.iterrows():\n",
        "    if ' decimal ' in str(row['Value Label']).lower():\n",
        "        if index not in float_cols: \n",
        "            float_cols.append(index[0])\n",
        "\n",
        "del catalog\n",
        "print(float_cols)"
      ]
    },
    {
      "cell_type": "markdown",
      "metadata": {},
      "source": [
        "#### Build the dataframe from the list of rows"
      ]
    },
    {
      "cell_type": "markdown",
      "metadata": {},
      "source": [
        "Extract the `colspecs` from the `layout` table. It will be used to split the strings in the dataframe into multiple columns."
      ]
    },
    {
      "cell_type": "code",
      "execution_count": 11,
      "metadata": {},
      "outputs": [],
      "source": [
        "colspecs = []\n",
        "for index, row in layout.iterrows():\n",
        "    colspecs.append((row.Start-1, row.Length+row.Start-1))\n",
        "names = layout.index.get_level_values(0).tolist()"
      ]
    },
    {
      "cell_type": "markdown",
      "metadata": {},
      "source": [
        "Split the raw data into multiple columns."
      ]
    },
    {
      "cell_type": "code",
      "execution_count": 12,
      "metadata": {},
      "outputs": [
        {
          "ename": "",
          "evalue": "",
          "output_type": "error",
          "traceback": [
            "\u001b[1;31mThe Kernel crashed while executing code in the the current cell or a previous cell. Please review the code in the cell(s) to identify a possible cause of the failure. Click <a href='https://aka.ms/vscodeJupyterKernelCrash'>here</a> for more info. View Jupyter <a href='command:jupyter.viewOutput'>log</a> for further details."
          ]
        }
      ],
      "source": [
        "size = 10000\n",
        "chunks = []\n",
        "\n",
        "for pos in range(0, len(data_rows), size):\n",
        "    rows = data_rows[pos:pos+size]\n",
        "    if not rows:\n",
        "        break\n",
        "\n",
        "    file = StringIO(''.join(rows))\n",
        "    file.seek(0)\n",
        "    chunk = pd.read_fwf(file, names=names, colspecs=colspecs, header=None)\n",
        "    chunk.fillna(pd.NA, inplace=True)\n",
        "    chunks.append(chunk)\n",
        "\n",
        "del data_rows\n",
        "data = pd.concat(chunks, ignore_index=True)\n",
        "data"
      ]
    },
    {
      "cell_type": "code",
      "execution_count": null,
      "metadata": {},
      "outputs": [],
      "source": [
        "for col in data.columns:\n",
        "    chunks = []\n",
        "    for pos in range(0, len(data[col]), size):\n",
        "        rows = data[col][pos:pos+size]\n",
        "        if len(rows) == 0:\n",
        "            break\n",
        "        \n",
        "        if col in float_cols:\n",
        "            rows = rows.astype('float64')\n",
        "        else:\n",
        "            rows = rows.astype('Int64')\n",
        "\n",
        "        chunks.append(rows)\n",
        "    \n",
        "    data[col] = pd.concat(chunks, ignore_index=True)"
      ]
    },
    {
      "cell_type": "markdown",
      "metadata": {},
      "source": [
        "#### Upload the processed data to the database"
      ]
    },
    {
      "cell_type": "markdown",
      "metadata": {},
      "source": [
        "Use the list of codes thacan be passed as an index dataframe resulting from splitting the raw data into different named columns into the MySQL database."
      ]
    },
    {
      "cell_type": "code",
      "execution_count": null,
      "metadata": {},
      "outputs": [],
      "source": []
    }
  ],
  "metadata": {
    "colab": {
      "provenance": []
    },
    "kernelspec": {
      "display_name": "Python 3",
      "name": "python3"
    },
    "language_info": {
      "codemirror_mode": {
        "name": "ipython",
        "version": 3
      },
      "file_extension": ".py",
      "mimetype": "text/x-python",
      "name": "python",
      "nbconvert_exporter": "python",
      "pygments_lexer": "ipython3",
      "version": "3.10.12"
    }
  },
  "nbformat": 4,
  "nbformat_minor": 0
}
